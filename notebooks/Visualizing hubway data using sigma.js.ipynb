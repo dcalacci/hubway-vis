{
 "metadata": {
  "name": "",
  "signature": "sha256:a42b54d8efee3e49a266ed785bc8354a6753a4eeb17da946ea6fe2a5df6be9c0"
 },
 "nbformat": 3,
 "nbformat_minor": 0,
 "worksheets": [
  {
   "cells": [
    {
     "cell_type": "code",
     "collapsed": false,
     "input": [
      "import pandas as pd\n",
      "import numpy as np\n",
      "import networkx as nx"
     ],
     "language": "python",
     "metadata": {},
     "outputs": [],
     "prompt_number": 1
    },
    {
     "cell_type": "markdown",
     "metadata": {},
     "source": [
      "There's a whole bunch of hubway data available over at the [Hubway Data Challenge website](http://hubwaydatachallenge.org).\n",
      "\n",
      "There's already been a bunch of visualizations submitted, especially since the submission date was way back in 2012 (I think). \n",
      "\n",
      "I decided I'd try my hand, especially since [sigma.js](http://sigmajs.org) seems like such a useful  visualization tool.\n",
      "\n",
      "I also wanted to see if a community detection algorithm on the graph would discover anything interesting (or otherwise obvious) about the communiting patterns of hubway users.\n",
      "\n",
      "The pipeline looks like this:\n",
      "\n",
      "1. Read dataset from the hubway site into pandas\n",
      "2. Create a networkx directed graph representation\n",
      "3. Run community detection\n",
      "3. Export it to .gexf\n",
      "4. Play around with the graph until something nice appears\n",
      "5. Export THAT graph to .gexf, then play around with sigma.js until something else nice appears.\n",
      "\n",
      "Okay, here we go:"
     ]
    },
    {
     "cell_type": "markdown",
     "metadata": {},
     "source": [
      "First, import all the station and trip data from hubway.\n",
      "\n",
      "Here's what they look like after pulling them into pandas:"
     ]
    },
    {
     "cell_type": "code",
     "collapsed": false,
     "input": [
      "stations = pd.read_csv('../data/stations_10_12_to_11_13.csv', \n",
      "                       index_col=0)\n",
      "\n",
      "trips = pd.read_csv('../data/hubwaydata_10_12_to_11_13.csv',\n",
      "                    index_col=0,\n",
      "                    parse_dates=['start_date', 'end_date'])"
     ],
     "language": "python",
     "metadata": {},
     "outputs": [
      {
       "output_type": "stream",
       "stream": "stderr",
       "text": [
        "/Users/dan/attic/tools/anaconda/lib/python2.7/site-packages/pandas/io/parsers.py:1070: DtypeWarning: Columns (9) have mixed types. Specify dtype option on import or set low_memory=False.\n",
        "  data = self._reader.read(nrows)\n"
       ]
      }
     ],
     "prompt_number": 2
    },
    {
     "cell_type": "code",
     "collapsed": false,
     "input": [
      "# sigma.js requres the node IDs to be strings.\n",
      "stations = stations.set_index(stations.index.map(str))\n",
      "trips.start_station = trips.start_station.map(str)\n",
      "trips.end_station = trips.end_station.map(str)"
     ],
     "language": "python",
     "metadata": {},
     "outputs": [],
     "prompt_number": 125
    },
    {
     "cell_type": "code",
     "collapsed": false,
     "input": [
      "stations.head(2)"
     ],
     "language": "python",
     "metadata": {},
     "outputs": [
      {
       "html": [
        "<div style=\"max-height:1000px;max-width:1500px;overflow:auto;\">\n",
        "<table border=\"1\" class=\"dataframe\">\n",
        "  <thead>\n",
        "    <tr style=\"text-align: right;\">\n",
        "      <th></th>\n",
        "      <th>terminal</th>\n",
        "      <th>station</th>\n",
        "      <th>municipality</th>\n",
        "      <th>lat</th>\n",
        "      <th>lng</th>\n",
        "      <th>nb_docks</th>\n",
        "      <th>install_date</th>\n",
        "      <th>last_day</th>\n",
        "    </tr>\n",
        "  </thead>\n",
        "  <tbody>\n",
        "    <tr>\n",
        "      <th>3</th>\n",
        "      <td> B32006</td>\n",
        "      <td>      Colleges of the Fenway</td>\n",
        "      <td> Boston</td>\n",
        "      <td> 42.340021</td>\n",
        "      <td>-71.100812</td>\n",
        "      <td> 15</td>\n",
        "      <td> 4/8/2013</td>\n",
        "      <td> 11/27/2013</td>\n",
        "    </tr>\n",
        "    <tr>\n",
        "      <th>4</th>\n",
        "      <td> C32000</td>\n",
        "      <td> Tremont St. at Berkeley St.</td>\n",
        "      <td> Boston</td>\n",
        "      <td> 42.345392</td>\n",
        "      <td>-71.069616</td>\n",
        "      <td> 15</td>\n",
        "      <td> 4/8/2013</td>\n",
        "      <td> 11/27/2013</td>\n",
        "    </tr>\n",
        "  </tbody>\n",
        "</table>\n",
        "<p>2 rows \u00d7 8 columns</p>\n",
        "</div>"
       ],
       "metadata": {},
       "output_type": "pyout",
       "prompt_number": 128,
       "text": [
        "  terminal                      station municipality        lat        lng  \\\n",
        "3   B32006       Colleges of the Fenway       Boston  42.340021 -71.100812   \n",
        "4   C32000  Tremont St. at Berkeley St.       Boston  42.345392 -71.069616   \n",
        "\n",
        "   nb_docks install_date    last_day  \n",
        "3        15     4/8/2013  11/27/2013  \n",
        "4        15     4/8/2013  11/27/2013  \n",
        "\n",
        "[2 rows x 8 columns]"
       ]
      }
     ],
     "prompt_number": 128
    },
    {
     "cell_type": "code",
     "collapsed": false,
     "input": [
      "trips.head(2)"
     ],
     "language": "python",
     "metadata": {},
     "outputs": [
      {
       "html": [
        "<div style=\"max-height:1000px;max-width:1500px;overflow:auto;\">\n",
        "<table border=\"1\" class=\"dataframe\">\n",
        "  <thead>\n",
        "    <tr style=\"text-align: right;\">\n",
        "      <th></th>\n",
        "      <th>status</th>\n",
        "      <th>duration</th>\n",
        "      <th>start_date</th>\n",
        "      <th>start_station</th>\n",
        "      <th>end_date</th>\n",
        "      <th>end_station</th>\n",
        "      <th>bike_nr</th>\n",
        "      <th>subscription_type</th>\n",
        "      <th>zip_code</th>\n",
        "      <th>birth_date</th>\n",
        "      <th>gender</th>\n",
        "    </tr>\n",
        "    <tr>\n",
        "      <th>id</th>\n",
        "      <th></th>\n",
        "      <th></th>\n",
        "      <th></th>\n",
        "      <th></th>\n",
        "      <th></th>\n",
        "      <th></th>\n",
        "      <th></th>\n",
        "      <th></th>\n",
        "      <th></th>\n",
        "      <th></th>\n",
        "      <th></th>\n",
        "    </tr>\n",
        "  </thead>\n",
        "  <tbody>\n",
        "    <tr>\n",
        "      <th>708191</th>\n",
        "      <td> Closed</td>\n",
        "      <td> 240</td>\n",
        "      <td>2012-10-31 23:57:00</td>\n",
        "      <td> 53</td>\n",
        "      <td>2012-11-01 00:01:00</td>\n",
        "      <td>  67</td>\n",
        "      <td> B00412</td>\n",
        "      <td> Registered</td>\n",
        "      <td> 02139</td>\n",
        "      <td>NaN</td>\n",
        "      <td>   Male</td>\n",
        "    </tr>\n",
        "    <tr>\n",
        "      <th>708190</th>\n",
        "      <td> Closed</td>\n",
        "      <td> 840</td>\n",
        "      <td>2012-10-31 23:54:00</td>\n",
        "      <td> 36</td>\n",
        "      <td>2012-11-01 00:08:00</td>\n",
        "      <td> 115</td>\n",
        "      <td> B00491</td>\n",
        "      <td> Registered</td>\n",
        "      <td> 02127</td>\n",
        "      <td>NaN</td>\n",
        "      <td> Female</td>\n",
        "    </tr>\n",
        "  </tbody>\n",
        "</table>\n",
        "<p>2 rows \u00d7 11 columns</p>\n",
        "</div>"
       ],
       "metadata": {},
       "output_type": "pyout",
       "prompt_number": 127,
       "text": [
        "        status  duration          start_date start_station  \\\n",
        "id                                                           \n",
        "708191  Closed       240 2012-10-31 23:57:00            53   \n",
        "708190  Closed       840 2012-10-31 23:54:00            36   \n",
        "\n",
        "                  end_date end_station bike_nr subscription_type zip_code  \\\n",
        "id                                                                          \n",
        "708191 2012-11-01 00:01:00          67  B00412        Registered    02139   \n",
        "708190 2012-11-01 00:08:00         115  B00491        Registered    02127   \n",
        "\n",
        "        birth_date  gender  \n",
        "id                          \n",
        "708191         NaN    Male  \n",
        "708190         NaN  Female  \n",
        "\n",
        "[2 rows x 11 columns]"
       ]
      }
     ],
     "prompt_number": 127
    },
    {
     "cell_type": "markdown",
     "metadata": {},
     "source": [
      "---\n",
      "## Create the graph\n",
      "\n",
      "Next, we've gotta create the graph.\n",
      "\n",
      "To do this, I iterate through all the rows of the stations dataframe, adding nodes to the graph as I go.\n",
      "\n",
      "I weight an edge between two stations $n_1$ and $n_2$ by the number of trips taken from $n_1$ to $n_2$, $t_{1,2}$.\n",
      "\n",
      "(now that I'm writing this, I should probably normalize these weights by the total number of trips leaving a station in general. I'll update the notebook later.)"
     ]
    },
    {
     "cell_type": "code",
     "collapsed": false,
     "input": [
      "DG = nx.DiGraph()\n",
      "\n",
      "# add station nodes\n",
      "# sigma.js requires a string ID, an X, and a Y for each node.\n",
      "for n, r in stations.iterrows():\n",
      "    DG.add_node(n,\n",
      "                label=r.station,\n",
      "                y=r.lat,\n",
      "                x=r.lng)\n",
      "    \n",
      "# add edges for trips.\n",
      "# There's an edge between two stations if there was a trip between them.\n",
      "# Edges are weighted by the number of trips\n",
      "for n, r in trips.iterrows():\n",
      "    if DG.has_edge(r.start_station, r.end_station):\n",
      "        DG[r.start_station][r.end_station]['weight'] += 1\n",
      "    else:\n",
      "        DG.add_edge(r.start_station, r.end_station, weight=1)"
     ],
     "language": "python",
     "metadata": {},
     "outputs": [],
     "prompt_number": 129
    },
    {
     "cell_type": "markdown",
     "metadata": {},
     "source": [
      "Here's what the gross networkx visualization looks like (with the Fruchterman-Reingold layout):"
     ]
    },
    {
     "cell_type": "code",
     "collapsed": false,
     "input": [
      "pos = nx.fruchterman_reingold_layout(DG)\n",
      "nx.draw_networkx(DG, pos)"
     ],
     "language": "python",
     "metadata": {},
     "outputs": [
      {
       "metadata": {},
       "output_type": "display_data",
       "png": "[encoded data removed]",
       "text": [
        "<matplotlib.figure.Figure at 0x16d0af090>"
       ]
      }
     ],
     "prompt_number": 140
    },
    {
     "cell_type": "markdown",
     "metadata": {},
     "source": [
      "---\n",
      "## Community detection\n",
      "\n",
      "There's a nice little python module called [communities](http://perso.crans.org/aynaud/communities/) that implements the [Louvain community detection method](http://iopscience.iop.org/1742-5468/2008/10/P10008/).\n",
      "\n",
      "I'm pretty ignorant to best practices here, so I just ran it a few times until I saw a layout in the induced community graph (image #2).\n"
     ]
    },
    {
     "cell_type": "code",
     "collapsed": false,
     "input": [
      "import community\n",
      "\n",
      "DG = nx.Graph(DG)\n",
      "partition = community.best_partition(DG)\n",
      "\n",
      "size = float(len(set(partition.values())))\n",
      "pos = nx.spring_layout(DG)\n",
      "count = 0\n",
      "for com in set(partition.values()) :\n",
      "    count = count + 1.\n",
      "    list_nodes = [nodes for nodes in partition.keys()\n",
      "                                if partition[nodes] == com]\n",
      "    nx.draw_networkx_nodes(DG, pos, list_nodes, node_size = 20,\n",
      "                                node_color = str(count / size))\n",
      "\n",
      "\n",
      "nx.draw_networkx_edges(DG,pos, alpha=0.8)\n",
      "plt.show()\n",
      "\n",
      "\n",
      "# let's see if it makes sense:\n",
      "ind_graph = community.induced_graph(partition, DG)\n",
      "\n",
      "#pos = nx.spring_layout(ind_graph)\n",
      "pos = nx.fruchterman_reingold_layout(ind_graph)\n",
      "\n",
      "nx.draw_networkx(ind_graph, pos)"
     ],
     "language": "python",
     "metadata": {},
     "outputs": [
      {
       "metadata": {},
       "output_type": "display_data",
       "png": "[encoded data removed]",
       "text": [
        "<matplotlib.figure.Figure at 0x1725a7050>"
       ]
      },
      {
       "metadata": {},
       "output_type": "display_data",
       "png": "[encoded data removed]",
       "text": [
        "<matplotlib.figure.Figure at 0x16d00ee10>"
       ]
      }
     ],
     "prompt_number": 131
    },
    {
     "cell_type": "markdown",
     "metadata": {},
     "source": [
      "Great. Now that we've run the community detection, we can then add a 'community' attribute to each node, and then export it to .gexf for use in gephi."
     ]
    },
    {
     "cell_type": "code",
     "collapsed": false,
     "input": [
      "# add the communities to the graph\n",
      "for n, d in DG.nodes_iter(data=True):\n",
      "    DG.node[n]['community'] = partition[n]"
     ],
     "language": "python",
     "metadata": {},
     "outputs": [],
     "prompt_number": 132
    },
    {
     "cell_type": "code",
     "collapsed": false,
     "input": [
      "nx.write_gexf(DG, '../sigma/trips.json')"
     ],
     "language": "python",
     "metadata": {},
     "outputs": []
    },
    {
     "cell_type": "markdown",
     "metadata": {},
     "source": [
      "Messing around with the network is beyond the scope of this post/notebook.\n",
      "\n",
      "In Gephi, I did the following things:\n",
      "\n",
      "1. Color-coded the communities\n",
      "2. removed edges with a weight less than 50, representing routes that had fewer than fifty total trips in the dataset.\n",
      "3. applied a geo-layout to keep the geographic data of the stations intact."
     ]
    },
    {
     "cell_type": "markdown",
     "metadata": {},
     "source": [
      "You can see the finished product produced with sigma.js [here](/more/dataviz/hubway/)"
     ]
    }
   ],
   "metadata": {}
  }
 ]
}